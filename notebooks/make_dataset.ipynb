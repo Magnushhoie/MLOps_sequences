{
 "cells": [
  {
   "cell_type": "code",
   "execution_count": 22,
   "metadata": {},
   "outputs": [
    {
     "name": "stdout",
     "output_type": "stream",
     "text": [
      "Checking for duplicate sequences in:\n",
      " ['../data/raw/test_neg.fasta', '../data/raw/test_pos.fasta', '../data/raw/train_pos.fasta', '../data/raw/train_neg.fasta']\n",
      "Found 0 duplicate sequences in ../data/raw/test_neg.fasta\n",
      "Saving to ../data/interim/filtered_test_neg.fasta\n",
      "Found 0 duplicate sequences in ../data/raw/test_pos.fasta\n",
      "Saving to ../data/interim/filtered_test_pos.fasta\n",
      "Found 13 duplicate sequences in ../data/raw/train_pos.fasta\n",
      "Saving to ../data/interim/filtered_train_pos.fasta\n",
      "Found 256 duplicate sequences in ../data/raw/train_neg.fasta\n",
      "Saving to ../data/interim/filtered_train_neg.fasta\n",
      "\n",
      "Processed 3246 sequences from 4 train/test FASTA files in ../data/raw/ to ../data/interim/:\n",
      "Unique IDs / Sequences: 2977 / 2977\n"
     ]
    }
   ],
   "source": [
    "#!/home/maghoi/.conda/envs/py37/bin/python\n",
    "from Bio import SeqIO\n",
    "import argparse, os, glob\n",
    "\n",
    "#parser = argparse.ArgumentParser(description=\"Removes duplicate seqs from input file, writes to input_out\")\n",
    "#parser.add_argument(\"-i\", dest=\"INPUT_FASTA\", required=True, help=\"Input fasta file\")\n",
    "#parser.add_argument(\"-o\", dest=\"OUTPUT_FASTA\", help=\"Output fasta file\")\n",
    "#args = parser.parse_args()  \n",
    "#dict_args = vars(args)\n",
    "\n",
    "\n",
    "def de_duplicate_FASTA_files(inDir=\"../data/raw/\", v=1):\n",
    "    # Find train and test fasta files in raw\n",
    "    fasta_files = glob.glob(inDir + \"test*.fasta\") + glob.glob(inDir + \"train*.fasta\")\n",
    "    print(\"Checking for duplicate sequences in:\\n\", fasta_files, end=\"\\n\")\n",
    "    outDir = \"../data/interim/\"\n",
    "\n",
    "    # Count duplicates and entries across all fasta files\n",
    "    dict_seqs = {}\n",
    "    dict_ids = {}\n",
    "    count_entries = 0\n",
    "\n",
    "    # Load individual FASTA files and check whether sequences are duplicates before saving\n",
    "    # IDs are only stored for counting\n",
    "    for inFasta in fasta_files:\n",
    "        outFasta = outDir + \"filtered_\" + os.path.basename(inFasta)\n",
    "\n",
    "        with open(outFasta, 'w') as outHandle:\n",
    "            no_duplicates = 0\n",
    "            for record in SeqIO.parse(inFasta, \"fasta\"):\n",
    "                count_entries += 1\n",
    "\n",
    "                # Store unique sequences for later checking\n",
    "                # Write ID+sequence if sequence is unique\n",
    "                if str(record.seq) not in dict_seqs:\n",
    "                    dict_seqs[str(record.seq)] = True\n",
    "                    SeqIO.write(record, outHandle, 'fasta')\n",
    "\n",
    "                    # Store unique IDs\n",
    "                    if str(record.id) not in dict_ids:\n",
    "                        dict_ids[str(record.id)] = True\n",
    "\n",
    "                else:\n",
    "                    no_duplicates += 1\n",
    "\n",
    "            if v:\n",
    "                print(f\"Found {no_duplicates} duplicate sequences in {inFasta}\")\n",
    "                print(f\"Saving to {outFasta}\")\n",
    "                \n",
    "    # Print statistics\n",
    "    print(f\"\\nProcessed {count_entries} sequences from {len(fasta_files)} train/test FASTA files in {inDir} to {outDir}:\")\n",
    "    print(f\"Unique IDs / Sequences: {len(dict_ids.keys())} / {len(dict_seqs.keys())}\")\n",
    "\n",
    "de_duplicate_FASTA_files()"
   ]
  },
  {
   "cell_type": "code",
   "execution_count": 24,
   "metadata": {},
   "outputs": [
    {
     "data": {
      "text/plain": [
       "'nonamp5_30_1529'"
      ]
     },
     "execution_count": 24,
     "metadata": {},
     "output_type": "execute_result"
    }
   ],
   "source": [
    "call(\"\" + \" myarg\", shell=True)"
   ]
  },
  {
   "cell_type": "code",
   "execution_count": null,
   "metadata": {},
   "outputs": [],
   "source": [
    "call(\"${PYTHON_INTERPRETER} -u \" + \"src/data/extract.py \" + \"\", shell=True)"
   ]
  },
  {
   "cell_type": "code",
   "execution_count": 46,
   "metadata": {},
   "outputs": [
    {
     "data": {
      "text/plain": [
       "CompletedProcess(args='echo hello world', returncode=0, stdout=b'hello world\\n', stderr=b'')"
      ]
     },
     "execution_count": 46,
     "metadata": {},
     "output_type": "execute_result"
    }
   ],
   "source": [
    "import subprocess\n",
    "subprocess.run(\"echo hello world\", shell=True, capture_output=True)"
   ]
  },
  {
   "cell_type": "code",
   "execution_count": 47,
   "metadata": {},
   "outputs": [
    {
     "name": "stdout",
     "output_type": "stream",
     "text": [
      "../data/interim/test.fasta\n",
      "${PYTHON_INTERPRETER} -u extract.py esm1_t6_43M_UR50S ../data/interim/test.fasta ../data/interim/test/ include per_tok\n"
     ]
    }
   ],
   "source": [
    "for fastaFile in glob.glob(\"../data/interim/test.fasta\"):\n",
    "    print(fastaFile)\n",
    "\n",
    "    fastaName = Path(os.path.basename(fastaFile)).stem\n",
    "    script = \"${PYTHON_INTERPRETER} -u extract.py\"\n",
    "    model= \"esm1_t6_43M_UR50S\"\n",
    "    params = \"include per_tok\"\n",
    "    outDir = \"../data/interim/\" + fastaName + \"/\"\n",
    "\n",
    "    cmd = \" \".join([script, model, fastaFile, outDir, params])\n",
    "    print(cmd)\n",
    "    subprocess.run(cmd, shell=True, capture_output=True)"
   ]
  },
  {
   "cell_type": "code",
   "execution_count": 53,
   "metadata": {},
   "outputs": [
    {
     "data": {
      "text/plain": [
       "CompletedProcess(args='bash ../src/data/run_esm.sh', returncode=2)"
      ]
     },
     "execution_count": 53,
     "metadata": {},
     "output_type": "execute_result"
    }
   ],
   "source": [
    "import subprocess\n",
    "with open('../src/data/run_esm.sh', 'rb') as file:\n",
    "    script = file.read()\n",
    "subprocess.run(\"bash ../src/data/run_esm.sh\", shell=True)"
   ]
  },
  {
   "cell_type": "code",
   "execution_count": 55,
   "metadata": {},
   "outputs": [
    {
     "name": "stdout",
     "output_type": "stream",
     "text": [
      "/Users/maghoi/repos/__personal/MLOps_sequences/notebooks\n"
     ]
    }
   ],
   "source": [
    "!pwd"
   ]
  },
  {
   "cell_type": "code",
   "execution_count": 58,
   "metadata": {},
   "outputs": [
    {
     "name": "stdout",
     "output_type": "stream",
     "text": [
      "/Users/maghoi/repos/__personal/MLOps_sequences/notebooks/bash\n",
      "/Users/maghoi/repos/__personal/MLOps_sequences/src/data/run_esm.sh\n"
     ]
    }
   ],
   "source": [
    "!realpath bash ../src/data/run_esm.sh"
   ]
  },
  {
   "cell_type": "code",
   "execution_count": 63,
   "metadata": {},
   "outputs": [
    {
     "data": {
      "text/plain": [
       "<Popen: returncode: None args: '../src/data/run_esm.sh'>"
      ]
     },
     "execution_count": 63,
     "metadata": {},
     "output_type": "execute_result"
    }
   ],
   "source": [
    "script=\"../src/data/run_esm.sh\"\n",
    "os.chmod(script, 0o755)\n",
    "subprocess.Popen(script)"
   ]
  },
  {
   "cell_type": "code",
   "execution_count": 64,
   "metadata": {},
   "outputs": [
    {
     "name": "stdout",
     "output_type": "stream",
     "text": [
      "total 32\n",
      "-rw-r--r--  1 maghoi  staff   5.0K Aug  5 12:49 extract.py\n",
      "-rw-r--r--  1 maghoi  staff     0B Jan 12 16:12 .gitkeep\n",
      "-rw-r--r--  1 maghoi  staff     0B Jan 12 16:12 __init__.py\n",
      "drwxr-xr-x  8 maghoi  staff   256B Jan 12 17:55 \u001b[34m..\u001b[m\u001b[m\n",
      "-rw-r--r--@ 1 maghoi  staff   3.1K Jan 12 18:13 make_dataset.py\n",
      "drwxr-xr-x  7 maghoi  staff   224B Jan 12 18:23 \u001b[34m.\u001b[m\u001b[m\n",
      "-rwxr-xr-x  1 maghoi  staff   497B Jan 12 18:43 \u001b[31mrun_esm.sh\u001b[m\u001b[m\n"
     ]
    }
   ],
   "source": [
    "!ls -alhtr ../src/data/"
   ]
  },
  {
   "cell_type": "code",
   "execution_count": null,
   "metadata": {},
   "outputs": [],
   "source": []
  },
  {
   "cell_type": "code",
   "execution_count": null,
   "metadata": {},
   "outputs": [],
   "source": []
  },
  {
   "cell_type": "code",
   "execution_count": null,
   "metadata": {},
   "outputs": [],
   "source": []
  }
 ],
 "metadata": {
  "interpreter": {
   "hash": "60f93b0faea0a57007398383e28c0775c544bd7626646f372cebeadfd8fd40e3"
  },
  "kernelspec": {
   "display_name": "Python 3.9.6 64-bit ('py37': conda)",
   "language": "python",
   "name": "python3"
  },
  "language_info": {
   "codemirror_mode": {
    "name": "ipython",
    "version": 3
   },
   "file_extension": ".py",
   "mimetype": "text/x-python",
   "name": "python",
   "nbconvert_exporter": "python",
   "pygments_lexer": "ipython3",
   "version": "3.9.6"
  },
  "orig_nbformat": 4
 },
 "nbformat": 4,
 "nbformat_minor": 2
}
